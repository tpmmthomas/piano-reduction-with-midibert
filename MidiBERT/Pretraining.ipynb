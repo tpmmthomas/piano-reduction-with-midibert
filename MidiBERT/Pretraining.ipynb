{
 "cells": [
  {
   "cell_type": "code",
   "execution_count": 1,
   "id": "3af560c3-e721-41c8-8ba5-a4ffe9b9bb44",
   "metadata": {},
   "outputs": [],
   "source": [
    "! python dict/make_dict.py"
   ]
  },
  {
   "cell_type": "code",
   "execution_count": 2,
   "id": "0249cd59-cb7a-4a29-98f3-9247971fccb7",
   "metadata": {},
   "outputs": [
    {
     "name": "stdout",
     "output_type": "stream",
     "text": [
      "Number of  files: 10855\n",
      "  1%|▎                                      | 100/10855 [00:19<35:12,  5.09it/s]\n",
      "Data shape: (447, 512, 6), saved at data/processed/GiantMIDI.npy\n"
     ]
    }
   ],
   "source": [
    "! python CP/main.py --task custom --name GiantMIDI --input_dir data/raw/GiantMIDI --output_dir data/processed --dict dict/CP_program.pkl"
   ]
  },
  {
   "cell_type": "code",
   "execution_count": null,
   "id": "8eb9e1b0-3b29-4143-99c8-3f40d7b58fa8",
   "metadata": {},
   "outputs": [
    {
     "name": "stdout",
     "output_type": "stream",
     "text": [
      "2022-07-03 23:41:23,082 - __main__ - INFO - Loading Dictionary\n",
      "2022-07-03 23:41:23,082 - __main__ - INFO - Loading Dataset ['data/processed/GiantMIDI']\n",
      "2022-07-03 23:41:23,091 - __main__ - INFO - Training data shape: (379, 512, 6)\n",
      "2022-07-03 23:41:23,091 - __main__ - INFO - Validation data shape: (68, 512, 6)\n",
      "2022-07-03 23:41:23,091 - __main__ - INFO - Len of train_loader 64\n",
      "2022-07-03 23:41:23,091 - __main__ - INFO - Len of valid_loader 12\n",
      "2022-07-03 23:41:23,091 - __main__ - INFO - Building BERT model\n",
      "2022-07-03 23:41:24,058 - __main__ - INFO - Creating BERT Trainer\n",
      "2022-07-03 23:41:24,062 - trainer - INFO - # total parameters: 111761970\n",
      "2022-07-03 23:41:24,063 - __main__ - INFO - Training Start\n",
      "2022-07-03 23:41:24,064 - __main__ - INFO -    save model at result/pretrain/MidiBert/model.ckpt\n",
      " 22%|██▊          | 14/64 [04:41<18:14, 21.90s/it, cur loss=2.42, avg loss=2.81]"
     ]
    }
   ],
   "source": [
    "! python MidiBERT/main.py --datasets data/processed/GiantMIDI --dict dict/CP_program.pkl"
   ]
  }
 ],
 "metadata": {
  "kernelspec": {
   "display_name": "Python 3 (ipykernel)",
   "language": "python",
   "name": "python3"
  },
  "language_info": {
   "codemirror_mode": {
    "name": "ipython",
    "version": 3
   },
   "file_extension": ".py",
   "mimetype": "text/x-python",
   "name": "python",
   "nbconvert_exporter": "python",
   "pygments_lexer": "ipython3",
   "version": "3.9.0"
  }
 },
 "nbformat": 4,
 "nbformat_minor": 5
}
